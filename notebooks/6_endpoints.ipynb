{
 "cells": [
  {
   "cell_type": "markdown",
   "metadata": {},
   "source": [
    "Desarrollo de EndPoints"
   ]
  },
  {
   "cell_type": "code",
   "execution_count": 2,
   "metadata": {},
   "outputs": [],
   "source": [
    "import pandas as pd\n",
    "import matplotlib.pyplot as plt\n",
    "import seaborn as sns\n",
    "import warnings\n",
    "warnings.filterwarnings(\"ignore\")"
   ]
  },
  {
   "cell_type": "code",
   "execution_count": 5,
   "metadata": {},
   "outputs": [],
   "source": [
    "# Abrimos y leemos el dataset unficado\n",
    "ruta_unificado = \"..\\\\Datasets\\\\unificado.parquet\"\n",
    "df_unificado = pd.read_parquet(ruta_unificado)"
   ]
  },
  {
   "cell_type": "code",
   "execution_count": 7,
   "metadata": {},
   "outputs": [
    {
     "name": "stdout",
     "output_type": "stream",
     "text": [
      "Filas : 8183355, Variables : 12\n",
      "<class 'pandas.core.frame.DataFrame'>\n",
      "Index: 8183355 entries, 0 to 8344483\n",
      "Data columns (total 12 columns):\n",
      " #   Column              Dtype  \n",
      "---  ------              -----  \n",
      " 0   genres              object \n",
      " 1   title               object \n",
      " 2   year                object \n",
      " 3   price               float64\n",
      " 4   item_id             int32  \n",
      " 5   developer           object \n",
      " 6   user_id             object \n",
      " 7   recommend           bool   \n",
      " 8   sentiment_analysis  int64  \n",
      " 9   items_count         int64  \n",
      " 10  playtime_forever    float64\n",
      " 11  playtime_2weeks     float64\n",
      "dtypes: bool(1), float64(3), int32(1), int64(2), object(5)\n",
      "memory usage: 725.8+ MB\n"
     ]
    }
   ],
   "source": [
    "# Observemos las Filas, Columnas y tipo de datos\n",
    "print(f'Filas : {df_unificado.shape[0]}, Variables : {df_unificado.shape[1]}')\n",
    "df_unificado.info()"
   ]
  },
  {
   "cell_type": "markdown",
   "metadata": {},
   "source": [
    "Se crearan conjuntos de dataset para dar respuestas a los distintos endpoints"
   ]
  },
  {
   "cell_type": "markdown",
   "metadata": {},
   "source": [
    "Debe devolver cantidad de dinero gastado por el usuario, el porcentaje de recomendación en base a reviews.recommend y cantidad de items."
   ]
  },
  {
   "cell_type": "code",
   "execution_count": 11,
   "metadata": {},
   "outputs": [
    {
     "data": {
      "text/plain": [
       "(8183355, 4)"
      ]
     },
     "execution_count": 11,
     "metadata": {},
     "output_type": "execute_result"
    }
   ],
   "source": [
    "df_userdata = df_unificado[['price','user_id','recommend','items_count']]               \n",
    "df_userdata.to_parquet(\"../Datasets/userdata.parquet\")\n",
    "df_userdata.shape"
   ]
  },
  {
   "cell_type": "markdown",
   "metadata": {},
   "source": [
    "Debe devolver el usuario que acumula más horas jugadas para el género dado y una lista de la acumulación de horas jugadas por año de lanzamiento."
   ]
  },
  {
   "cell_type": "code",
   "execution_count": 15,
   "metadata": {},
   "outputs": [
    {
     "data": {
      "text/plain": [
       "(8183355, 4)"
      ]
     },
     "execution_count": 15,
     "metadata": {},
     "output_type": "execute_result"
    }
   ],
   "source": [
    "df_userforgenre = df_unificado[['user_id', 'playtime_forever', 'genres', 'year']]\n",
    "df_userforgenre.to_parquet(\"../Datasets/userforgenre.parquet\")\n",
    "df_userforgenre.shape"
   ]
  },
  {
   "cell_type": "markdown",
   "metadata": {},
   "source": [
    "**Endpoint 4**. Devuelve el top 3 de desarrolladores con juegos MÁS recomendados por usuarios para el año dado. (reviews.recommend = True y comentarios positivos) <br>\n",
    "**Endpoint 5**. Según el desarrollador, se devuelve un diccionario con el nombre del desarrollador como llave y una lista con la cantidad total de registros de reseñas de usuarios que se encuentren categorizados con un análisis de sentimiento como valor positivo o negativo."
   ]
  },
  {
   "cell_type": "code",
   "execution_count": 18,
   "metadata": {},
   "outputs": [
    {
     "data": {
      "text/plain": [
       "(8183355, 4)"
      ]
     },
     "execution_count": 18,
     "metadata": {},
     "output_type": "execute_result"
    }
   ],
   "source": [
    "df_bdev_devre = df_unificado[['developer', 'recommend', 'year', 'sentiment_analysis']]\n",
    "df_bdev_devre.to_parquet('../Datasets/endpoint_4_5.parquet')\n",
    "df_bdev_devre.shape"
   ]
  },
  {
   "cell_type": "code",
   "execution_count": 19,
   "metadata": {},
   "outputs": [
    {
     "data": {
      "text/html": [
       "<div>\n",
       "<style scoped>\n",
       "    .dataframe tbody tr th:only-of-type {\n",
       "        vertical-align: middle;\n",
       "    }\n",
       "\n",
       "    .dataframe tbody tr th {\n",
       "        vertical-align: top;\n",
       "    }\n",
       "\n",
       "    .dataframe thead th {\n",
       "        text-align: right;\n",
       "    }\n",
       "</style>\n",
       "<table border=\"1\" class=\"dataframe\">\n",
       "  <thead>\n",
       "    <tr style=\"text-align: right;\">\n",
       "      <th></th>\n",
       "      <th>item_id</th>\n",
       "      <th>title</th>\n",
       "      <th>genres</th>\n",
       "      <th>playtime_2weeks</th>\n",
       "      <th>recommend</th>\n",
       "      <th>sentiment_analysis</th>\n",
       "    </tr>\n",
       "  </thead>\n",
       "  <tbody>\n",
       "    <tr>\n",
       "      <th>0</th>\n",
       "      <td>282010</td>\n",
       "      <td>Carmageddon Max Pack</td>\n",
       "      <td>Action</td>\n",
       "      <td>0.0</td>\n",
       "      <td>True</td>\n",
       "      <td>1</td>\n",
       "    </tr>\n",
       "    <tr>\n",
       "      <th>1</th>\n",
       "      <td>282010</td>\n",
       "      <td>Carmageddon Max Pack</td>\n",
       "      <td>Action</td>\n",
       "      <td>0.0</td>\n",
       "      <td>True</td>\n",
       "      <td>1</td>\n",
       "    </tr>\n",
       "  </tbody>\n",
       "</table>\n",
       "</div>"
      ],
      "text/plain": [
       "   item_id                 title  genres  playtime_2weeks  recommend  \\\n",
       "0   282010  Carmageddon Max Pack  Action              0.0       True   \n",
       "1   282010  Carmageddon Max Pack  Action              0.0       True   \n",
       "\n",
       "   sentiment_analysis  \n",
       "0                   1  \n",
       "1                   1  "
      ]
     },
     "execution_count": 19,
     "metadata": {},
     "output_type": "execute_result"
    }
   ],
   "source": [
    "df_recomendacion = df_unificado[['item_id', 'title', 'genres', 'playtime_2weeks', 'recommend', 'sentiment_analysis', ]]\n",
    "df_recomendacion.head(2)"
   ]
  },
  {
   "cell_type": "code",
   "execution_count": 20,
   "metadata": {},
   "outputs": [],
   "source": [
    "# Filtrar por Recomnedado\n",
    "df_recomendacion = df_recomendacion[df_recomendacion['recommend']==True]\n",
    "\n",
    "# Filtrar por analisis de sentimiento igual a 2 (Positivo)\n",
    "df_recomendacion = df_recomendacion[df_recomendacion['sentiment_analysis'] == 2]\n",
    "\n",
    "# Borrar variable recommend\n",
    "df_recomendacion = df_recomendacion.drop(['recommend'], axis=1)"
   ]
  },
  {
   "cell_type": "code",
   "execution_count": null,
   "metadata": {},
   "outputs": [],
   "source": [
    "\"\"\"Sumamos la cantidad de horas jugadas por juego en las últimas dos semanas y la cantidad de recoendaciones positivas, agrupado por juego. Tomamos la cantidad jugada en las últimas dos semanas y lo usamos para el modelo de recomendación, entendiendo que esta cantidad de horas da una tendencia para poder recomendar. No tenemos demasiados parámetros para comparar similitud de coseno, por lo que una tendencia puede ser, en algunos casos, una buena manera de recomendar.\"\"\"\n",
    "df_recomendacion = df_recomendacion.groupby(['item_id', 'title', 'genres'], as_index=False).agg({\n",
    "    'sentiment_analysis': 'count',\n",
    "    'playtime_2weeks': 'sum',\n",
    " })\n",
    "\n",
    "# Ordenamos de manera descendente en función del análisis de sentimiento.\n",
    "df_recomendacion = df_recomendacion.sort_values(by='sentiment_analysis', ascending=False)\n",
    "df_recomendacion = df_recomendacion.groupby(['item_id', 'title']).agg({\n",
    "    'genres': lambda x: list(x),\n",
    "    'sentiment_analysis': 'sum',\n",
    "    'playtime_2weeks': 'sum'\n",
    "}).reset_index()"
   ]
  }
 ],
 "metadata": {
  "kernelspec": {
   "display_name": ".venv",
   "language": "python",
   "name": "python3"
  },
  "language_info": {
   "codemirror_mode": {
    "name": "ipython",
    "version": 3
   },
   "file_extension": ".py",
   "mimetype": "text/x-python",
   "name": "python",
   "nbconvert_exporter": "python",
   "pygments_lexer": "ipython3",
   "version": "3.12.3"
  }
 },
 "nbformat": 4,
 "nbformat_minor": 2
}
