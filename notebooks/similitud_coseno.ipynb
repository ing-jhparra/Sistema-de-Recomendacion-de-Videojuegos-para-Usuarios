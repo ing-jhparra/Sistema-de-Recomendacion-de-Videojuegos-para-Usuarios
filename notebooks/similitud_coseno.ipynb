{
 "cells": [
  {
   "cell_type": "markdown",
   "metadata": {},
   "source": [
    "# Modelo : Similitud del Coseno"
   ]
  },
  {
   "cell_type": "code",
   "execution_count": 1,
   "metadata": {},
   "outputs": [],
   "source": [
    "# Carga de librerias \n",
    "import pandas as pd\n",
    "import numpy as np\n",
    "from PIL import Image\n",
    "from wordcloud import WordCloud\n",
    "from nltk.corpus import stopwords\n",
    "import matplotlib.pyplot as plt\n",
    "import seaborn as sns\n",
    "from sklearn.feature_extraction.text import TfidfVectorizer\n",
    "from sklearn.metrics.pairwise import cosine_similarity\n",
    "import warnings\n",
    "warnings.filterwarnings(\"ignore\")"
   ]
  },
  {
   "cell_type": "code",
   "execution_count": 2,
   "metadata": {},
   "outputs": [],
   "source": [
    "# Leer los dataset par aluego consultarlos\n",
    "ruta_steam_game = '..\\\\Datasets\\\\developer.parquet'\n",
    "ruta_user_items = '..\\\\Datasets\\\\users_items.parquet'\n",
    "ruta_user_reviews = '..\\\\Datasets\\\\user_review.parquet'\n",
    "\n",
    "df_steam_game = pd.read_parquet(ruta_steam_game)\n",
    "df_user_items = pd.read_parquet(ruta_user_items)\n",
    "df_user_review = pd.read_parquet(ruta_user_reviews)"
   ]
  },
  {
   "cell_type": "code",
   "execution_count": 3,
   "metadata": {},
   "outputs": [
    {
     "data": {
      "text/plain": [
       "year          object\n",
       "item_id        int32\n",
       "price        float64\n",
       "developer     object\n",
       "dtype: object"
      ]
     },
     "execution_count": 3,
     "metadata": {},
     "output_type": "execute_result"
    }
   ],
   "source": [
    "# Verifcamos los tipos de datos\n",
    "df_steam_game.dtypes"
   ]
  },
  {
   "cell_type": "code",
   "execution_count": 4,
   "metadata": {},
   "outputs": [
    {
     "data": {
      "text/plain": [
       "user_id              object\n",
       "items_count           int64\n",
       "item_name            object\n",
       "playtime_forever    float64\n",
       "playtime_2weeks     float64\n",
       "item_id               int32\n",
       "dtype: object"
      ]
     },
     "execution_count": 4,
     "metadata": {},
     "output_type": "execute_result"
    }
   ],
   "source": [
    "# Verifcamos los tipos de datos\n",
    "df_user_items.dtypes"
   ]
  },
  {
   "cell_type": "code",
   "execution_count": 5,
   "metadata": {},
   "outputs": [
    {
     "name": "stdout",
     "output_type": "stream",
     "text": [
      "(10000, 5)\n"
     ]
    },
    {
     "data": {
      "text/plain": [
       "user_id               object\n",
       "item_id                int32\n",
       "recommend               bool\n",
       "review                object\n",
       "sentiment_analysis     int64\n",
       "dtype: object"
      ]
     },
     "execution_count": 5,
     "metadata": {},
     "output_type": "execute_result"
    }
   ],
   "source": [
    "# Verifcamos los tipos de datos\n",
    "print(df_user_review.shape)\n",
    "df_user_review.dtypes"
   ]
  },
  {
   "cell_type": "code",
   "execution_count": 6,
   "metadata": {},
   "outputs": [
    {
     "name": "stdout",
     "output_type": "stream",
     "text": [
      "int32\n"
     ]
    }
   ],
   "source": [
    "# Necesitamos cambiar el tipo de datos a item_id en reviews\n",
    "item_int = df_user_review[\"item_id\"].astype(str).astype(int)\n",
    "print(item_int.dtypes)"
   ]
  },
  {
   "cell_type": "code",
   "execution_count": 7,
   "metadata": {},
   "outputs": [
    {
     "data": {
      "text/html": [
       "<div>\n",
       "<style scoped>\n",
       "    .dataframe tbody tr th:only-of-type {\n",
       "        vertical-align: middle;\n",
       "    }\n",
       "\n",
       "    .dataframe tbody tr th {\n",
       "        vertical-align: top;\n",
       "    }\n",
       "\n",
       "    .dataframe thead th {\n",
       "        text-align: right;\n",
       "    }\n",
       "</style>\n",
       "<table border=\"1\" class=\"dataframe\">\n",
       "  <thead>\n",
       "    <tr style=\"text-align: right;\">\n",
       "      <th></th>\n",
       "      <th>user_id</th>\n",
       "      <th>item_id</th>\n",
       "      <th>recommend</th>\n",
       "      <th>review</th>\n",
       "      <th>sentiment_analysis</th>\n",
       "    </tr>\n",
       "  </thead>\n",
       "  <tbody>\n",
       "    <tr>\n",
       "      <th>0</th>\n",
       "      <td>InspyrBOI</td>\n",
       "      <td>550</td>\n",
       "      <td>True</td>\n",
       "      <td>LUV IT</td>\n",
       "      <td>1</td>\n",
       "    </tr>\n",
       "    <tr>\n",
       "      <th>1</th>\n",
       "      <td>76561198052193514</td>\n",
       "      <td>252490</td>\n",
       "      <td>True</td>\n",
       "      <td>I was absolutely obsessed with this game back ...</td>\n",
       "      <td>2</td>\n",
       "    </tr>\n",
       "    <tr>\n",
       "      <th>2</th>\n",
       "      <td>dannysfatass</td>\n",
       "      <td>304930</td>\n",
       "      <td>True</td>\n",
       "      <td>cs:go skins</td>\n",
       "      <td>1</td>\n",
       "    </tr>\n",
       "  </tbody>\n",
       "</table>\n",
       "</div>"
      ],
      "text/plain": [
       "             user_id  item_id  recommend  \\\n",
       "0          InspyrBOI      550       True   \n",
       "1  76561198052193514   252490       True   \n",
       "2       dannysfatass   304930       True   \n",
       "\n",
       "                                              review  sentiment_analysis  \n",
       "0                                             LUV IT                   1  \n",
       "1  I was absolutely obsessed with this game back ...                   2  \n",
       "2                                        cs:go skins                   1  "
      ]
     },
     "execution_count": 7,
     "metadata": {},
     "output_type": "execute_result"
    }
   ],
   "source": [
    "# Observemos los datos \n",
    "df_user_review.head(3)"
   ]
  },
  {
   "cell_type": "code",
   "execution_count": 8,
   "metadata": {},
   "outputs": [],
   "source": [
    "# Para el modelo reemplazamos los alores de True y Falso por sus valores 1 y 0 respectivamente\n",
    "reemplazar_valores = {True: 1, False: 0}\n",
    "df_user_review.replace(reemplazar_valores,inplace=True)"
   ]
  },
  {
   "cell_type": "code",
   "execution_count": 9,
   "metadata": {},
   "outputs": [
    {
     "name": "stdout",
     "output_type": "stream",
     "text": [
      "(1000, 5)\n"
     ]
    }
   ],
   "source": [
    "# Extraemos una muestra de reviews\n",
    "df_reviews = df_user_review.sample(n=1000, random_state=7)\n",
    "print(df_reviews.shape)"
   ]
  },
  {
   "cell_type": "code",
   "execution_count": 10,
   "metadata": {},
   "outputs": [
    {
     "data": {
      "text/html": [
       "<div>\n",
       "<style scoped>\n",
       "    .dataframe tbody tr th:only-of-type {\n",
       "        vertical-align: middle;\n",
       "    }\n",
       "\n",
       "    .dataframe tbody tr th {\n",
       "        vertical-align: top;\n",
       "    }\n",
       "\n",
       "    .dataframe thead th {\n",
       "        text-align: right;\n",
       "    }\n",
       "</style>\n",
       "<table border=\"1\" class=\"dataframe\">\n",
       "  <thead>\n",
       "    <tr style=\"text-align: right;\">\n",
       "      <th></th>\n",
       "      <th>user_id</th>\n",
       "      <th>item_id</th>\n",
       "      <th>recommend</th>\n",
       "      <th>review</th>\n",
       "      <th>sentiment_analysis</th>\n",
       "    </tr>\n",
       "  </thead>\n",
       "  <tbody>\n",
       "    <tr>\n",
       "      <th>1977</th>\n",
       "      <td>76561198029997863</td>\n",
       "      <td>346010</td>\n",
       "      <td>1</td>\n",
       "      <td>i have beaten the first world section  and i s...</td>\n",
       "      <td>2</td>\n",
       "    </tr>\n",
       "    <tr>\n",
       "      <th>3880</th>\n",
       "      <td>epagames</td>\n",
       "      <td>440</td>\n",
       "      <td>1</td>\n",
       "      <td>这是我见过的最棒的游戏，它独特创新的卡通风格以及多种有趣的模式和玩法很容易让人上瘾，当然，这...</td>\n",
       "      <td>1</td>\n",
       "    </tr>\n",
       "  </tbody>\n",
       "</table>\n",
       "</div>"
      ],
      "text/plain": [
       "                user_id  item_id  recommend  \\\n",
       "1977  76561198029997863   346010          1   \n",
       "3880           epagames      440          1   \n",
       "\n",
       "                                                 review  sentiment_analysis  \n",
       "1977  i have beaten the first world section  and i s...                   2  \n",
       "3880  这是我见过的最棒的游戏，它独特创新的卡通风格以及多种有趣的模式和玩法很容易让人上瘾，当然，这...                   1  "
      ]
     },
     "execution_count": 10,
     "metadata": {},
     "output_type": "execute_result"
    }
   ],
   "source": [
    "# Observemos los datos \n",
    "df_reviews.head(2)"
   ]
  },
  {
   "cell_type": "code",
   "execution_count": 11,
   "metadata": {},
   "outputs": [
    {
     "data": {
      "text/plain": [
       "0"
      ]
     },
     "execution_count": 11,
     "metadata": {},
     "output_type": "execute_result"
    }
   ],
   "source": [
    "# Creamos un dataframe con las columnas item_id y item_name\n",
    "items_juegos = df_user_items[[\"item_id\",\"item_name\"]]\n",
    "items_juegos.drop_duplicates(inplace=True)\n",
    "items_juegos.duplicated().sum()"
   ]
  },
  {
   "cell_type": "code",
   "execution_count": 12,
   "metadata": {},
   "outputs": [
    {
     "data": {
      "text/html": [
       "<div>\n",
       "<style scoped>\n",
       "    .dataframe tbody tr th:only-of-type {\n",
       "        vertical-align: middle;\n",
       "    }\n",
       "\n",
       "    .dataframe tbody tr th {\n",
       "        vertical-align: top;\n",
       "    }\n",
       "\n",
       "    .dataframe thead th {\n",
       "        text-align: right;\n",
       "    }\n",
       "</style>\n",
       "<table border=\"1\" class=\"dataframe\">\n",
       "  <thead>\n",
       "    <tr style=\"text-align: right;\">\n",
       "      <th></th>\n",
       "      <th>item_id</th>\n",
       "      <th>item_name</th>\n",
       "    </tr>\n",
       "  </thead>\n",
       "  <tbody>\n",
       "    <tr>\n",
       "      <th>0</th>\n",
       "      <td>258010</td>\n",
       "      <td>Ring Runner: Flight of the Sages</td>\n",
       "    </tr>\n",
       "    <tr>\n",
       "      <th>1</th>\n",
       "      <td>224900</td>\n",
       "      <td>Iron Sky Invasion</td>\n",
       "    </tr>\n",
       "  </tbody>\n",
       "</table>\n",
       "</div>"
      ],
      "text/plain": [
       "   item_id                         item_name\n",
       "0   258010  Ring Runner: Flight of the Sages\n",
       "1   224900                 Iron Sky Invasion"
      ]
     },
     "execution_count": 12,
     "metadata": {},
     "output_type": "execute_result"
    }
   ],
   "source": [
    "# Observemos el nuevo dataframe\n",
    "items_juegos.head(2)"
   ]
  },
  {
   "cell_type": "code",
   "execution_count": 13,
   "metadata": {},
   "outputs": [],
   "source": [
    "# Convertimos el dataframe item_juegos en una matriz de dimension n x 2 (n filas por 2 columnas)\n",
    "matriz_numpy = items_juegos.to_numpy()"
   ]
  },
  {
   "cell_type": "code",
   "execution_count": 14,
   "metadata": {},
   "outputs": [],
   "source": [
    "# Creamos una funcion para verificar el nombre de un juego dado el item\n",
    "def buscar_nombre_item(item_id):\n",
    "    #item_name = items_juegos[items_juegos[\"item_id\"] == item_id].iloc[0, 1]\n",
    "    for ind,fila in enumerate(matriz_numpy):\n",
    "        if pd.to_numeric(fila[0]) == item_id:\n",
    "            item_name = fila[1]\n",
    "            break\n",
    "    return item_name"
   ]
  },
  {
   "cell_type": "code",
   "execution_count": 15,
   "metadata": {},
   "outputs": [
    {
     "data": {
      "text/plain": [
       "'Left 4 Dead 2'"
      ]
     },
     "execution_count": 15,
     "metadata": {},
     "output_type": "execute_result"
    }
   ],
   "source": [
    "# Verificacion de la funcion\n",
    "buscar_nombre_item(550)"
   ]
  },
  {
   "cell_type": "code",
   "execution_count": 16,
   "metadata": {},
   "outputs": [
    {
     "name": "stdout",
     "output_type": "stream",
     "text": [
      "<class 'pandas.core.frame.DataFrame'>\n",
      "RangeIndex: 10000 entries, 0 to 9999\n",
      "Data columns (total 5 columns):\n",
      " #   Column              Non-Null Count  Dtype \n",
      "---  ------              --------------  ----- \n",
      " 0   user_id             10000 non-null  object\n",
      " 1   item_id             10000 non-null  int32 \n",
      " 2   recommend           10000 non-null  int64 \n",
      " 3   review              10000 non-null  object\n",
      " 4   sentiment_analysis  10000 non-null  int64 \n",
      "dtypes: int32(1), int64(2), object(2)\n",
      "memory usage: 351.7+ KB\n"
     ]
    }
   ],
   "source": [
    "# Cambiamos el tipo de datos para item_id en df_user_review\n",
    "df_user_review[[\"item_id\"]] = df_user_review[[\"item_id\"]].astype(int)\n",
    "df_user_review.info()"
   ]
  },
  {
   "cell_type": "code",
   "execution_count": 17,
   "metadata": {},
   "outputs": [
    {
     "data": {
      "text/html": [
       "<div>\n",
       "<style scoped>\n",
       "    .dataframe tbody tr th:only-of-type {\n",
       "        vertical-align: middle;\n",
       "    }\n",
       "\n",
       "    .dataframe tbody tr th {\n",
       "        vertical-align: top;\n",
       "    }\n",
       "\n",
       "    .dataframe thead th {\n",
       "        text-align: right;\n",
       "    }\n",
       "</style>\n",
       "<table border=\"1\" class=\"dataframe\">\n",
       "  <thead>\n",
       "    <tr style=\"text-align: right;\">\n",
       "      <th></th>\n",
       "      <th>user_id</th>\n",
       "      <th>item_id</th>\n",
       "      <th>recommend</th>\n",
       "      <th>review</th>\n",
       "      <th>sentiment_analysis</th>\n",
       "      <th>item_name</th>\n",
       "      <th>_merge</th>\n",
       "    </tr>\n",
       "  </thead>\n",
       "  <tbody>\n",
       "    <tr>\n",
       "      <th>0</th>\n",
       "      <td>InspyrBOI</td>\n",
       "      <td>550</td>\n",
       "      <td>1</td>\n",
       "      <td>LUV IT</td>\n",
       "      <td>1</td>\n",
       "      <td>Left 4 Dead 2</td>\n",
       "      <td>both</td>\n",
       "    </tr>\n",
       "    <tr>\n",
       "      <th>1</th>\n",
       "      <td>76561198052193514</td>\n",
       "      <td>252490</td>\n",
       "      <td>1</td>\n",
       "      <td>I was absolutely obsessed with this game back ...</td>\n",
       "      <td>2</td>\n",
       "      <td>Rust</td>\n",
       "      <td>both</td>\n",
       "    </tr>\n",
       "  </tbody>\n",
       "</table>\n",
       "</div>"
      ],
      "text/plain": [
       "             user_id  item_id  recommend  \\\n",
       "0          InspyrBOI      550          1   \n",
       "1  76561198052193514   252490          1   \n",
       "\n",
       "                                              review  sentiment_analysis  \\\n",
       "0                                             LUV IT                   1   \n",
       "1  I was absolutely obsessed with this game back ...                   2   \n",
       "\n",
       "       item_name _merge  \n",
       "0  Left 4 Dead 2   both  \n",
       "1           Rust   both  "
      ]
     },
     "execution_count": 17,
     "metadata": {},
     "output_type": "execute_result"
    }
   ],
   "source": [
    "# Ahora hacemos un merge con los 2 dataframe\n",
    "df1 = pd.merge(df_user_review, items_juegos, how='left', on=['item_id'], indicator=True)\n",
    "df1.head(2)"
   ]
  },
  {
   "cell_type": "code",
   "execution_count": 18,
   "metadata": {},
   "outputs": [],
   "source": [
    "# Borramos valores nulos\n",
    "df1.dropna(inplace=True)"
   ]
  },
  {
   "cell_type": "code",
   "execution_count": 19,
   "metadata": {},
   "outputs": [
    {
     "data": {
      "text/plain": [
       "user_id               0\n",
       "item_id               0\n",
       "recommend             0\n",
       "review                0\n",
       "sentiment_analysis    0\n",
       "item_name             0\n",
       "_merge                0\n",
       "dtype: int64"
      ]
     },
     "execution_count": 19,
     "metadata": {},
     "output_type": "execute_result"
    }
   ],
   "source": [
    "# Verificamos cantidad de valores nulos\n",
    "df1.isnull().sum()"
   ]
  },
  {
   "cell_type": "code",
   "execution_count": 20,
   "metadata": {},
   "outputs": [],
   "source": [
    "# Eliminamos la columna _merge\n",
    "df1.drop([\"_merge\"],axis=1,inplace=True)"
   ]
  },
  {
   "cell_type": "code",
   "execution_count": 21,
   "metadata": {},
   "outputs": [
    {
     "data": {
      "text/html": [
       "<div>\n",
       "<style scoped>\n",
       "    .dataframe tbody tr th:only-of-type {\n",
       "        vertical-align: middle;\n",
       "    }\n",
       "\n",
       "    .dataframe tbody tr th {\n",
       "        vertical-align: top;\n",
       "    }\n",
       "\n",
       "    .dataframe thead th {\n",
       "        text-align: right;\n",
       "    }\n",
       "</style>\n",
       "<table border=\"1\" class=\"dataframe\">\n",
       "  <thead>\n",
       "    <tr style=\"text-align: right;\">\n",
       "      <th></th>\n",
       "      <th>user_id</th>\n",
       "      <th>item_id</th>\n",
       "      <th>recommend</th>\n",
       "      <th>review</th>\n",
       "      <th>sentiment_analysis</th>\n",
       "      <th>item_name</th>\n",
       "    </tr>\n",
       "  </thead>\n",
       "  <tbody>\n",
       "    <tr>\n",
       "      <th>0</th>\n",
       "      <td>InspyrBOI</td>\n",
       "      <td>550</td>\n",
       "      <td>1</td>\n",
       "      <td>LUV IT</td>\n",
       "      <td>1</td>\n",
       "      <td>Left 4 Dead 2</td>\n",
       "    </tr>\n",
       "    <tr>\n",
       "      <th>1</th>\n",
       "      <td>76561198052193514</td>\n",
       "      <td>252490</td>\n",
       "      <td>1</td>\n",
       "      <td>I was absolutely obsessed with this game back ...</td>\n",
       "      <td>2</td>\n",
       "      <td>Rust</td>\n",
       "    </tr>\n",
       "  </tbody>\n",
       "</table>\n",
       "</div>"
      ],
      "text/plain": [
       "             user_id  item_id  recommend  \\\n",
       "0          InspyrBOI      550          1   \n",
       "1  76561198052193514   252490          1   \n",
       "\n",
       "                                              review  sentiment_analysis  \\\n",
       "0                                             LUV IT                   1   \n",
       "1  I was absolutely obsessed with this game back ...                   2   \n",
       "\n",
       "       item_name  \n",
       "0  Left 4 Dead 2  \n",
       "1           Rust  "
      ]
     },
     "execution_count": 21,
     "metadata": {},
     "output_type": "execute_result"
    }
   ],
   "source": [
    "# Creamos un nuevo dataframe df_sentiment_analysis a partir de df1\n",
    "df_sentiment_analysis = df1\n",
    "df_sentiment_analysis.head(2)"
   ]
  },
  {
   "cell_type": "code",
   "execution_count": 22,
   "metadata": {},
   "outputs": [
    {
     "data": {
      "text/plain": [
       "(1000, 6)"
      ]
     },
     "execution_count": 22,
     "metadata": {},
     "output_type": "execute_result"
    }
   ],
   "source": [
    "# Extraemos una muestra de registro\n",
    "df_sentiment_analysis = df_sentiment_analysis.sample(n=1000, random_state=7)\n",
    "df_sentiment_analysis.shape"
   ]
  },
  {
   "cell_type": "code",
   "execution_count": 23,
   "metadata": {},
   "outputs": [],
   "source": [
    "# Crear un archivo con formato parquet\n",
    "ruta = '..\\\\Datasets\\\\sentiment_analysis.parquet'\n",
    "df_sentiment_analysis.to_parquet(ruta, compression='snappy', index=False)"
   ]
  },
  {
   "cell_type": "code",
   "execution_count": 24,
   "metadata": {},
   "outputs": [],
   "source": [
    "# Crear un archivo con formato parquet\n",
    "ruta = '..\\\\Datasets\\\\sentiment_analysis.parquet'\n",
    "df_sentiment_analysis = pd.read_parquet(ruta)"
   ]
  },
  {
   "cell_type": "code",
   "execution_count": 25,
   "metadata": {},
   "outputs": [
    {
     "data": {
      "text/plain": [
       "0    An incredible Rpg, Sandbox and action game... ...\n",
       "1    One of the single greatest Music based games e...\n",
       "2    -fun to play with friends-fun to play when bor...\n",
       "3                                             its good\n",
       "4                                     Best game ever !\n",
       "Name: review, dtype: object"
      ]
     },
     "execution_count": 25,
     "metadata": {},
     "output_type": "execute_result"
    }
   ],
   "source": [
    "# Verificamos los valores en la columna reviews\n",
    "df_sentiment_analysis[\"review\"].head(5)"
   ]
  },
  {
   "cell_type": "code",
   "execution_count": 26,
   "metadata": {},
   "outputs": [],
   "source": [
    "# En el proyecto no utilice stop_words\n",
    "vectorizer = TfidfVectorizer(stop_words='english')\n",
    "tfidf_matrix = vectorizer.fit_transform(df_sentiment_analysis[\"review\"])"
   ]
  },
  {
   "cell_type": "code",
   "execution_count": 27,
   "metadata": {},
   "outputs": [],
   "source": [
    "# Vamos agregar las variables numéricas a la matriz de características\n",
    "feactures =  np.column_stack([tfidf_matrix.toarray(), df_sentiment_analysis[\"recommend\"], df_sentiment_analysis[\"sentiment_analysis\"]])"
   ]
  },
  {
   "cell_type": "code",
   "execution_count": 28,
   "metadata": {},
   "outputs": [],
   "source": [
    "# Reindexamos el DataFrame\n",
    "df_sentiment_analysis = df_sentiment_analysis.reset_index(drop=True)"
   ]
  },
  {
   "cell_type": "code",
   "execution_count": 29,
   "metadata": {},
   "outputs": [],
   "source": [
    "# Calculamos la matriz de similitud de coseno\n",
    "similarity_matrix = cosine_similarity(feactures)"
   ]
  },
  {
   "cell_type": "markdown",
   "metadata": {},
   "source": [
    "### Algunas pruebas de recomendación"
   ]
  },
  {
   "cell_type": "code",
   "execution_count": 30,
   "metadata": {},
   "outputs": [
    {
     "name": "stdout",
     "output_type": "stream",
     "text": [
      "Los productos más similares al producto Left 4 Dead 2 son:\n",
      "44                            Left 4 Dead 2\n",
      "867               Five Nights at Freddy's 2\n",
      "980                   Day of Defeat: Source\n",
      "473                          Counter-Strike\n",
      "102                           Town of Salem\n",
      "                       ...                 \n",
      "573                                PAYDAY 2\n",
      "49     Real Horror Stories Ultimate Edition\n",
      "337                      H1Z1: Just Survive\n",
      "29                       Fallout: New Vegas\n",
      "301                              Watch_Dogs\n",
      "Name: item_name, Length: 1000, dtype: object\n"
     ]
    }
   ],
   "source": [
    "# El siguiente codigo permite realizar las similitudes dado el nombre de un juego\n",
    "nombre_del_producto = \"Left 4 Dead 2\" \n",
    "producto = df_sentiment_analysis[df_sentiment_analysis['item_name'] == nombre_del_producto]\n",
    "if not producto.empty:\n",
    "    product_index = producto.index[0]\n",
    "    product_similarities = similarity_matrix[product_index]\n",
    "    most_similar_products_indices = np.argsort(-product_similarities)\n",
    "    most_similar_products = df_sentiment_analysis.loc[most_similar_products_indices, 'item_name']\n",
    "    print(\"Los productos más similares al producto\", nombre_del_producto, \"son:\")\n",
    "    print(most_similar_products)\n",
    "else:\n",
    "    print(\"Producto no encontrado\")"
   ]
  },
  {
   "cell_type": "code",
   "execution_count": 33,
   "metadata": {},
   "outputs": [
    {
     "name": "stdout",
     "output_type": "stream",
     "text": [
      "Los productos más similares al producto World of Guns: Gun Disassembly son:\n",
      "352                             Dragon Nest\n",
      "312                   Sniper Art of Victory\n",
      "884                             Garry's Mod\n",
      "255                     Stronghold Kingdoms\n",
      "256                              Radiator 2\n",
      "                       ...                 \n",
      "750                 Blacklight: Retribution\n",
      "140              Chivalry: Medieval Warfare\n",
      "403                             The Culling\n",
      "54     Real Horror Stories Ultimate Edition\n",
      "307                     Drift Streets Japan\n",
      "Name: item_name, Length: 1000, dtype: object\n"
     ]
    }
   ],
   "source": [
    "# El id para el juego para el que quieres hacer recomendaciones\n",
    "id_juego = 11610  \n",
    "producto = df_sentiment_analysis[df_sentiment_analysis['item_id'] == id_juego]\n",
    "if not producto.empty:\n",
    "    product_index = producto.index[0]\n",
    "    product_similarities = similarity_matrix[product_index]\n",
    "    most_similar_products_indices = np.argsort(-product_similarities)\n",
    "    most_similar_products = df_sentiment_analysis.loc[most_similar_products_indices, 'item_name']\n",
    "    print(\"Los productos más similares al producto\", nombre_del_producto, \"son:\")\n",
    "    print(most_similar_products)\n",
    "else:\n",
    "    print(\"Producto no encontrado\")"
   ]
  },
  {
   "cell_type": "code",
   "execution_count": 34,
   "metadata": {},
   "outputs": [
    {
     "data": {
      "text/plain": [
       "pandas.core.series.Series"
      ]
     },
     "execution_count": 34,
     "metadata": {},
     "output_type": "execute_result"
    }
   ],
   "source": [
    "type(most_similar_products)"
   ]
  },
  {
   "cell_type": "code",
   "execution_count": 35,
   "metadata": {},
   "outputs": [
    {
     "data": {
      "text/plain": [
       "{'Los productos más similares': ['Dragon Nest',\n",
       "  'Sniper Art of Victory',\n",
       "  \"Garry's Mod\",\n",
       "  'Stronghold Kingdoms',\n",
       "  'Radiator 2']}"
      ]
     },
     "execution_count": 35,
     "metadata": {},
     "output_type": "execute_result"
    }
   ],
   "source": [
    "# Dar formato a la informacion\n",
    "diccionario = {\"Los productos más similares\" : list()}\n",
    "similares = most_similar_products[:5]\n",
    "diccionario[\"Los productos más similares\"] = [similar for similar in similares]\n",
    "diccionario\n"
   ]
  },
  {
   "cell_type": "code",
   "execution_count": 97,
   "metadata": {},
   "outputs": [],
   "source": [
    "# Crear una funcion para manejar el  tono, saturacion e iluminacion\n",
    "import random\n",
    "\n",
    "\n",
    "def grey_color_func(word, font_size, position, orientation, random_state=None,\n",
    "                    **kwargs):\n",
    "    return \"hsl(40, 0%%, %d%%)\" % random.randint(10, 60)"
   ]
  },
  {
   "cell_type": "code",
   "execution_count": 98,
   "metadata": {},
   "outputs": [],
   "source": [
    "# Convertir la imagen en un arreglo\n",
    "mask = np.array(Image.open(r\"../img/cloud.png\"))\n",
    "mask[mask == 1] = 255\n",
    "\n"
   ]
  },
  {
   "cell_type": "code",
   "execution_count": 99,
   "metadata": {},
   "outputs": [],
   "source": [
    "# Creamos una cadena de texto a partir de la columna item_name\n",
    "cadena_de_texto = \" \".join(df_sentiment_analysis[\"item_name\"])"
   ]
  },
  {
   "cell_type": "code",
   "execution_count": 104,
   "metadata": {},
   "outputs": [],
   "source": [
    "# Devuelve el texto en una imagen de nube de palabras\n",
    "wordcloud = WordCloud(background_color = \"white\", max_words = 1000, stopwords='english', mask = mask,random_state=7, margin=10).generate(cadena_de_texto)"
   ]
  },
  {
   "cell_type": "code",
   "execution_count": 105,
   "metadata": {},
   "outputs": [
    {
     "data": {
      "image/png": "[encoded data removed]",
      "text/plain": [
       "<Figure size 640x480 with 1 Axes>"
      ]
     },
     "metadata": {},
     "output_type": "display_data"
    },
    {
     "data": {
      "image/png": "[encoded data removed]",
      "text/plain": [
       "<Figure size 640x480 with 1 Axes>"
      ]
     },
     "metadata": {},
     "output_type": "display_data"
    }
   ],
   "source": [
    "# Generar y gaurdar la imagen nube de palabras\n",
    "default_colors = wordcloud.to_array()\n",
    "plt.title(\"Nube de palabras\")\n",
    "plt.imshow(wordcloud.recolor(color_func=grey_color_func, random_state=3),interpolation=\"bilinear\")\n",
    "wordcloud.to_file(r\"../img/nube_palabras.png\")\n",
    "plt.axis(\"off\")\n",
    "plt.figure()\n",
    "plt.title(\"Nube de palabras\")\n",
    "plt.imshow(default_colors, interpolation=\"bilinear\")\n",
    "wordcloud.to_file(r\"../img/nube_palabras2.png\")\n",
    "plt.axis(\"off\")\n",
    "plt.show()"
   ]
  },
  {
   "cell_type": "code",
   "execution_count": 54,
   "metadata": {},
   "outputs": [],
   "source": [
    "#plt.imshow(wordcloud)\n",
    "#plt.axis(\"off\")\n",
    "#plt.show();"
   ]
  },
  {
   "cell_type": "code",
   "execution_count": null,
   "metadata": {},
   "outputs": [],
   "source": []
  },
  {
   "cell_type": "code",
   "execution_count": null,
   "metadata": {},
   "outputs": [],
   "source": []
  }
 ],
 "metadata": {
  "kernelspec": {
   "display_name": ".venv",
   "language": "python",
   "name": "python3"
  },
  "language_info": {
   "codemirror_mode": {
    "name": "ipython",
    "version": 3
   },
   "file_extension": ".py",
   "mimetype": "text/x-python",
   "name": "python",
   "nbconvert_exporter": "python",
   "pygments_lexer": "ipython3",
   "version": "3.12.3"
  }
 },
 "nbformat": 4,
 "nbformat_minor": 2
}
