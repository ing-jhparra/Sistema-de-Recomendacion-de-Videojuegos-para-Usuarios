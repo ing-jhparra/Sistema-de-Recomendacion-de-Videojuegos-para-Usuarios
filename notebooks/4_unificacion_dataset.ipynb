{
 "cells": [
  {
   "cell_type": "markdown",
   "metadata": {},
   "source": [
    "En este Notebook, se presenta un conjunto de pasos para realizar el proceso de Extracción, Carga y Transformación sobre el cojunto de datos users_items con el proposito de construir un MVP (Minimum Viable Product) o Producto Mínimo Viable"
   ]
  },
  {
   "cell_type": "markdown",
   "metadata": {},
   "source": [
    "Tratamiento de Datos (Transformación) Dataset Unificado"
   ]
  },
  {
   "cell_type": "code",
   "execution_count": 1,
   "metadata": {},
   "outputs": [],
   "source": [
    "import pandas as pd\n",
    "import matplotlib.pyplot as plt\n",
    "import seaborn as sns\n",
    "import warnings\n",
    "warnings.filterwarnings(\"ignore\")"
   ]
  },
  {
   "cell_type": "code",
   "execution_count": 2,
   "metadata": {},
   "outputs": [],
   "source": [
    "# Leer y cargar los distintos dataset\n",
    "ruta = \"..\\\\Datasets\\\\\"\n",
    "datasets = [\"steam_games.parquet\", \"users_items.parquet\", \"user_review.parquet\" ]\n",
    "\n",
    "df_game = pd.read_parquet(ruta + datasets[0])\n",
    "df_items = pd.read_parquet(ruta + datasets[1])\n",
    "df_reviews = pd.read_parquet(ruta + datasets[2])"
   ]
  },
  {
   "cell_type": "markdown",
   "metadata": {},
   "source": [
    "Dataset steam_games"
   ]
  },
  {
   "cell_type": "code",
   "execution_count": 3,
   "metadata": {},
   "outputs": [
    {
     "data": {
      "text/html": [
       "<div>\n",
       "<style scoped>\n",
       "    .dataframe tbody tr th:only-of-type {\n",
       "        vertical-align: middle;\n",
       "    }\n",
       "\n",
       "    .dataframe tbody tr th {\n",
       "        vertical-align: top;\n",
       "    }\n",
       "\n",
       "    .dataframe thead th {\n",
       "        text-align: right;\n",
       "    }\n",
       "</style>\n",
       "<table border=\"1\" class=\"dataframe\">\n",
       "  <thead>\n",
       "    <tr style=\"text-align: right;\">\n",
       "      <th></th>\n",
       "      <th>genres</th>\n",
       "      <th>title</th>\n",
       "      <th>year</th>\n",
       "      <th>price</th>\n",
       "      <th>item_id</th>\n",
       "      <th>developer</th>\n",
       "    </tr>\n",
       "  </thead>\n",
       "  <tbody>\n",
       "    <tr>\n",
       "      <th>0</th>\n",
       "      <td>Action</td>\n",
       "      <td>Lost Summoner Kitty</td>\n",
       "      <td>2018</td>\n",
       "      <td>4.99</td>\n",
       "      <td>761140</td>\n",
       "      <td>Kotoshiro</td>\n",
       "    </tr>\n",
       "    <tr>\n",
       "      <th>1</th>\n",
       "      <td>Casual</td>\n",
       "      <td>Lost Summoner Kitty</td>\n",
       "      <td>2018</td>\n",
       "      <td>4.99</td>\n",
       "      <td>761140</td>\n",
       "      <td>Kotoshiro</td>\n",
       "    </tr>\n",
       "  </tbody>\n",
       "</table>\n",
       "</div>"
      ],
      "text/plain": [
       "   genres                title  year  price  item_id  developer\n",
       "0  Action  Lost Summoner Kitty  2018   4.99   761140  Kotoshiro\n",
       "1  Casual  Lost Summoner Kitty  2018   4.99   761140  Kotoshiro"
      ]
     },
     "execution_count": 3,
     "metadata": {},
     "output_type": "execute_result"
    }
   ],
   "source": [
    "# Convertimos la variable item_id al tipo int\n",
    "df_game[\"item_id\"] = df_game[\"item_id\"].astype(int)\n",
    "df_game.head(2)"
   ]
  },
  {
   "cell_type": "markdown",
   "metadata": {},
   "source": [
    "Dataset users_items"
   ]
  },
  {
   "cell_type": "code",
   "execution_count": 4,
   "metadata": {},
   "outputs": [
    {
     "data": {
      "text/html": [
       "<div>\n",
       "<style scoped>\n",
       "    .dataframe tbody tr th:only-of-type {\n",
       "        vertical-align: middle;\n",
       "    }\n",
       "\n",
       "    .dataframe tbody tr th {\n",
       "        vertical-align: top;\n",
       "    }\n",
       "\n",
       "    .dataframe thead th {\n",
       "        text-align: right;\n",
       "    }\n",
       "</style>\n",
       "<table border=\"1\" class=\"dataframe\">\n",
       "  <thead>\n",
       "    <tr style=\"text-align: right;\">\n",
       "      <th></th>\n",
       "      <th>user_id</th>\n",
       "      <th>items_count</th>\n",
       "      <th>playtime_forever</th>\n",
       "      <th>playtime_2weeks</th>\n",
       "    </tr>\n",
       "  </thead>\n",
       "  <tbody>\n",
       "    <tr>\n",
       "      <th>0</th>\n",
       "      <td>76561197970982479</td>\n",
       "      <td>277</td>\n",
       "      <td>6.0</td>\n",
       "      <td>0.0</td>\n",
       "    </tr>\n",
       "    <tr>\n",
       "      <th>1</th>\n",
       "      <td>76561197970982479</td>\n",
       "      <td>277</td>\n",
       "      <td>0.0</td>\n",
       "      <td>0.0</td>\n",
       "    </tr>\n",
       "  </tbody>\n",
       "</table>\n",
       "</div>"
      ],
      "text/plain": [
       "             user_id  items_count  playtime_forever  playtime_2weeks\n",
       "0  76561197970982479          277               6.0              0.0\n",
       "1  76561197970982479          277               0.0              0.0"
      ]
     },
     "execution_count": 4,
     "metadata": {},
     "output_type": "execute_result"
    }
   ],
   "source": [
    "df_items.head(2)"
   ]
  },
  {
   "cell_type": "code",
   "execution_count": 5,
   "metadata": {},
   "outputs": [
    {
     "data": {
      "text/html": [
       "<div>\n",
       "<style scoped>\n",
       "    .dataframe tbody tr th:only-of-type {\n",
       "        vertical-align: middle;\n",
       "    }\n",
       "\n",
       "    .dataframe tbody tr th {\n",
       "        vertical-align: top;\n",
       "    }\n",
       "\n",
       "    .dataframe thead th {\n",
       "        text-align: right;\n",
       "    }\n",
       "</style>\n",
       "<table border=\"1\" class=\"dataframe\">\n",
       "  <thead>\n",
       "    <tr style=\"text-align: right;\">\n",
       "      <th></th>\n",
       "      <th>user_id</th>\n",
       "      <th>item_id</th>\n",
       "      <th>recommend</th>\n",
       "      <th>sentiment_analysis</th>\n",
       "    </tr>\n",
       "  </thead>\n",
       "  <tbody>\n",
       "    <tr>\n",
       "      <th>0</th>\n",
       "      <td>76561197970982479</td>\n",
       "      <td>1250</td>\n",
       "      <td>True</td>\n",
       "      <td>2</td>\n",
       "    </tr>\n",
       "    <tr>\n",
       "      <th>1</th>\n",
       "      <td>76561197970982479</td>\n",
       "      <td>22200</td>\n",
       "      <td>True</td>\n",
       "      <td>2</td>\n",
       "    </tr>\n",
       "  </tbody>\n",
       "</table>\n",
       "</div>"
      ],
      "text/plain": [
       "             user_id  item_id  recommend  sentiment_analysis\n",
       "0  76561197970982479     1250       True                   2\n",
       "1  76561197970982479    22200       True                   2"
      ]
     },
     "execution_count": 5,
     "metadata": {},
     "output_type": "execute_result"
    }
   ],
   "source": [
    "df_reviews[\"item_id\"] = df_reviews[\"item_id\"].astype(int)\n",
    "df_reviews.head(2)"
   ]
  },
  {
   "cell_type": "code",
   "execution_count": 6,
   "metadata": {},
   "outputs": [],
   "source": [
    "# Realizar merge de dataframes steam-games y user_reviews a traves del atributo item_id \n",
    "df_game_reviews = pd.merge(df_game, df_reviews, on = 'item_id' )"
   ]
  },
  {
   "cell_type": "code",
   "execution_count": 7,
   "metadata": {},
   "outputs": [],
   "source": [
    "# Realizar merge de dataframes steam-games y df_items a traves del atributo user_id\n",
    "df_unificado = pd.merge(df_game_reviews, df_items, on = 'user_id' )"
   ]
  },
  {
   "cell_type": "code",
   "execution_count": 8,
   "metadata": {},
   "outputs": [
    {
     "name": "stdout",
     "output_type": "stream",
     "text": [
      "Cantidad de filas duplicadas a eliminar: 148206\n"
     ]
    }
   ],
   "source": [
    "# Observemos filas duplicadas y eliminamos\n",
    "total = df_unificado.duplicated(subset=df_unificado.columns).sum()\n",
    "\n",
    "# Eliminamos las filas duplicadas.\n",
    "df_unificado.drop_duplicates(keep= 'last', inplace=True)\n",
    "print(f'Cantidad de filas duplicadas a eliminar: {total}')"
   ]
  },
  {
   "cell_type": "code",
   "execution_count": 9,
   "metadata": {},
   "outputs": [
    {
     "name": "stdout",
     "output_type": "stream",
     "text": [
      "Filas : 8196278, variables : 12\n",
      "Cantidad de Nulos\n"
     ]
    },
    {
     "data": {
      "text/plain": [
       "[('genres', 0),\n",
       " ('title', 0),\n",
       " ('year', 0),\n",
       " ('price', 0),\n",
       " ('item_id', 0),\n",
       " ('developer', 0),\n",
       " ('user_id', 0),\n",
       " ('recommend', 0),\n",
       " ('sentiment_analysis', 0),\n",
       " ('items_count', 0),\n",
       " ('playtime_forever', 12923),\n",
       " ('playtime_2weeks', 12923)]"
      ]
     },
     "execution_count": 9,
     "metadata": {},
     "output_type": "execute_result"
    }
   ],
   "source": [
    "# Observemos el nuevo dataframe, numero de filas, columnas, valores nulos y tipo de datos\n",
    "print(f'Filas : {df_unificado.shape[0]}, variables : {df_unificado.shape[1]}')\n",
    "nulos_por_variables = [(column, df_unificado[column].isnull().sum()) for column in df_unificado.columns ]\n",
    "print(\"Cantidad de Nulos\")\n",
    "nulos_por_variables"
   ]
  },
  {
   "cell_type": "code",
   "execution_count": 10,
   "metadata": {},
   "outputs": [
    {
     "name": "stdout",
     "output_type": "stream",
     "text": [
      "Filas : 8183355, variables : 12\n"
     ]
    }
   ],
   "source": [
    "# Eliminar valores nulos en playtime_forever y 'playtime_2weeks \n",
    "df_unificado.dropna(subset= ['playtime_forever','playtime_2weeks'], inplace= True)\n",
    "print(f'Filas : {df_unificado.shape[0]}, variables : {df_unificado.shape[1]}')"
   ]
  },
  {
   "cell_type": "code",
   "execution_count": 11,
   "metadata": {},
   "outputs": [
    {
     "data": {
      "text/html": [
       "<div>\n",
       "<style scoped>\n",
       "    .dataframe tbody tr th:only-of-type {\n",
       "        vertical-align: middle;\n",
       "    }\n",
       "\n",
       "    .dataframe tbody tr th {\n",
       "        vertical-align: top;\n",
       "    }\n",
       "\n",
       "    .dataframe thead th {\n",
       "        text-align: right;\n",
       "    }\n",
       "</style>\n",
       "<table border=\"1\" class=\"dataframe\">\n",
       "  <thead>\n",
       "    <tr style=\"text-align: right;\">\n",
       "      <th></th>\n",
       "      <th>genres</th>\n",
       "      <th>title</th>\n",
       "      <th>year</th>\n",
       "      <th>price</th>\n",
       "      <th>item_id</th>\n",
       "      <th>developer</th>\n",
       "      <th>user_id</th>\n",
       "      <th>recommend</th>\n",
       "      <th>sentiment_analysis</th>\n",
       "      <th>items_count</th>\n",
       "      <th>playtime_forever</th>\n",
       "      <th>playtime_2weeks</th>\n",
       "    </tr>\n",
       "  </thead>\n",
       "  <tbody>\n",
       "    <tr>\n",
       "      <th>6545786</th>\n",
       "      <td>Free to Play</td>\n",
       "      <td>Warframe</td>\n",
       "      <td>2013</td>\n",
       "      <td>0.00</td>\n",
       "      <td>230410</td>\n",
       "      <td>Digital Extremes</td>\n",
       "      <td>Moghur</td>\n",
       "      <td>True</td>\n",
       "      <td>1</td>\n",
       "      <td>127</td>\n",
       "      <td>235.0</td>\n",
       "      <td>0.0</td>\n",
       "    </tr>\n",
       "    <tr>\n",
       "      <th>4566958</th>\n",
       "      <td>Action</td>\n",
       "      <td>Evolve Stage 2</td>\n",
       "      <td>2015</td>\n",
       "      <td>0.00</td>\n",
       "      <td>273350</td>\n",
       "      <td>Turtle Rock Studios</td>\n",
       "      <td>76561198009026821</td>\n",
       "      <td>True</td>\n",
       "      <td>2</td>\n",
       "      <td>245</td>\n",
       "      <td>95.0</td>\n",
       "      <td>0.0</td>\n",
       "    </tr>\n",
       "    <tr>\n",
       "      <th>7866885</th>\n",
       "      <td>Indie</td>\n",
       "      <td>Bad Rats: the Rats' Revenge</td>\n",
       "      <td>2009</td>\n",
       "      <td>0.99</td>\n",
       "      <td>34900</td>\n",
       "      <td>Invent4 Entertainment</td>\n",
       "      <td>76561198075871336</td>\n",
       "      <td>False</td>\n",
       "      <td>2</td>\n",
       "      <td>110</td>\n",
       "      <td>175.0</td>\n",
       "      <td>0.0</td>\n",
       "    </tr>\n",
       "  </tbody>\n",
       "</table>\n",
       "</div>"
      ],
      "text/plain": [
       "               genres                        title  year  price  item_id  \\\n",
       "6545786  Free to Play                     Warframe  2013   0.00   230410   \n",
       "4566958        Action               Evolve Stage 2  2015   0.00   273350   \n",
       "7866885         Indie  Bad Rats: the Rats' Revenge  2009   0.99    34900   \n",
       "\n",
       "                     developer            user_id  recommend  \\\n",
       "6545786       Digital Extremes             Moghur       True   \n",
       "4566958    Turtle Rock Studios  76561198009026821       True   \n",
       "7866885  Invent4 Entertainment  76561198075871336      False   \n",
       "\n",
       "         sentiment_analysis  items_count  playtime_forever  playtime_2weeks  \n",
       "6545786                   1          127             235.0              0.0  \n",
       "4566958                   2          245              95.0              0.0  \n",
       "7866885                   2          110             175.0              0.0  "
      ]
     },
     "execution_count": 11,
     "metadata": {},
     "output_type": "execute_result"
    }
   ],
   "source": [
    "# Mostramos algunos registro como ejemplo\n",
    "df_unificado.sample(3)"
   ]
  },
  {
   "cell_type": "code",
   "execution_count": 12,
   "metadata": {},
   "outputs": [],
   "source": [
    "# Creamos un nuevo dataset a partir del nuevo dataframe\n",
    "dataset_unificado = '..\\\\Datasets\\\\unificado.parquet'\n",
    "df_unificado.to_parquet(dataset_unificado, compression='snappy', index=False)"
   ]
  },
  {
   "cell_type": "code",
   "execution_count": null,
   "metadata": {},
   "outputs": [],
   "source": []
  }
 ],
 "metadata": {
  "kernelspec": {
   "display_name": ".venv",
   "language": "python",
   "name": "python3"
  },
  "language_info": {
   "codemirror_mode": {
    "name": "ipython",
    "version": 3
   },
   "file_extension": ".py",
   "mimetype": "text/x-python",
   "name": "python",
   "nbconvert_exporter": "python",
   "pygments_lexer": "ipython3",
   "version": "3.12.3"
  }
 },
 "nbformat": 4,
 "nbformat_minor": 2
}
